{
  "nbformat": 4,
  "nbformat_minor": 0,
  "metadata": {
    "colab": {
      "provenance": [],
      "mount_file_id": "1Ur_dXHKb5SsyZNkIwM3eT8b8dDRU5o1F",
      "authorship_tag": "ABX9TyNv0kNMEZC4YHkmYoaUoftJ",
      "include_colab_link": true
    },
    "kernelspec": {
      "name": "python3",
      "display_name": "Python 3"
    },
    "language_info": {
      "name": "python"
    }
  },
  "cells": [
    {
      "cell_type": "markdown",
      "metadata": {
        "id": "view-in-github",
        "colab_type": "text"
      },
      "source": [
        "<a href=\"https://colab.research.google.com/github/SujinHwang27/SHOWER/blob/main/rnn_01.ipynb\" target=\"_parent\"><img src=\"https://colab.research.google.com/assets/colab-badge.svg\" alt=\"Open In Colab\"/></a>"
      ]
    },
    {
      "cell_type": "code",
      "execution_count": 2,
      "metadata": {
        "id": "wHWfD_fH0AUD"
      },
      "outputs": [],
      "source": [
        "import random\n",
        "import numpy as np\n",
        "import pandas as pd"
      ]
    },
    {
      "cell_type": "code",
      "source": [
        "import torch\n",
        "import torch.nn as nn\n",
        "import torch.optim as optim\n",
        "from sklearn.preprocessing import OneHotEncoder"
      ],
      "metadata": {
        "id": "D2yaN_ka0XIC"
      },
      "execution_count": 3,
      "outputs": []
    },
    {
      "cell_type": "code",
      "source": [
        "#csv 읽어오기\n",
        "train = pd.read_csv(\"/content/drive/MyDrive/OTTO/train_prep.csv\")\n",
        "train = train.drop(train.columns[[0]],axis = 1)\n",
        "display(train)"
      ],
      "metadata": {
        "colab": {
          "base_uri": "https://localhost:8080/",
          "height": 423
        },
        "id": "_UkfcvbN0Njn",
        "outputId": "e61ae7e8-592c-417f-cbc7-2da725db1031"
      },
      "execution_count": 4,
      "outputs": [
        {
          "output_type": "display_data",
          "data": {
            "text/plain": [
              "          customer_id  product_code               time_stamp event_type\n",
              "0                   0       1517085  2022-07-31 22:00:00.025     clicks\n",
              "1                   0       1563459  2022-07-31 22:01:44.511     clicks\n",
              "2                   0       1309446  2022-08-01 15:23:59.426     clicks\n",
              "3                   0         16246  2022-08-01 15:28:39.997     clicks\n",
              "4                   0       1781822  2022-08-01 15:31:11.344     clicks\n",
              "...               ...           ...                      ...        ...\n",
              "10285556       199999        928064  2022-08-01 06:46:48.967     clicks\n",
              "10285557       199999        849970  2022-08-01 06:47:29.078     clicks\n",
              "10285558       199999       1052480  2022-08-01 06:49:07.035     clicks\n",
              "10285559       199999        487255  2022-08-01 06:49:21.116     clicks\n",
              "10285560       199999       1138833  2022-08-01 06:49:35.075     clicks\n",
              "\n",
              "[10285561 rows x 4 columns]"
            ],
            "text/html": [
              "\n",
              "  <div id=\"df-c9dc83e7-b2ce-4ed7-b5c1-cf5dd40286b1\">\n",
              "    <div class=\"colab-df-container\">\n",
              "      <div>\n",
              "<style scoped>\n",
              "    .dataframe tbody tr th:only-of-type {\n",
              "        vertical-align: middle;\n",
              "    }\n",
              "\n",
              "    .dataframe tbody tr th {\n",
              "        vertical-align: top;\n",
              "    }\n",
              "\n",
              "    .dataframe thead th {\n",
              "        text-align: right;\n",
              "    }\n",
              "</style>\n",
              "<table border=\"1\" class=\"dataframe\">\n",
              "  <thead>\n",
              "    <tr style=\"text-align: right;\">\n",
              "      <th></th>\n",
              "      <th>customer_id</th>\n",
              "      <th>product_code</th>\n",
              "      <th>time_stamp</th>\n",
              "      <th>event_type</th>\n",
              "    </tr>\n",
              "  </thead>\n",
              "  <tbody>\n",
              "    <tr>\n",
              "      <th>0</th>\n",
              "      <td>0</td>\n",
              "      <td>1517085</td>\n",
              "      <td>2022-07-31 22:00:00.025</td>\n",
              "      <td>clicks</td>\n",
              "    </tr>\n",
              "    <tr>\n",
              "      <th>1</th>\n",
              "      <td>0</td>\n",
              "      <td>1563459</td>\n",
              "      <td>2022-07-31 22:01:44.511</td>\n",
              "      <td>clicks</td>\n",
              "    </tr>\n",
              "    <tr>\n",
              "      <th>2</th>\n",
              "      <td>0</td>\n",
              "      <td>1309446</td>\n",
              "      <td>2022-08-01 15:23:59.426</td>\n",
              "      <td>clicks</td>\n",
              "    </tr>\n",
              "    <tr>\n",
              "      <th>3</th>\n",
              "      <td>0</td>\n",
              "      <td>16246</td>\n",
              "      <td>2022-08-01 15:28:39.997</td>\n",
              "      <td>clicks</td>\n",
              "    </tr>\n",
              "    <tr>\n",
              "      <th>4</th>\n",
              "      <td>0</td>\n",
              "      <td>1781822</td>\n",
              "      <td>2022-08-01 15:31:11.344</td>\n",
              "      <td>clicks</td>\n",
              "    </tr>\n",
              "    <tr>\n",
              "      <th>...</th>\n",
              "      <td>...</td>\n",
              "      <td>...</td>\n",
              "      <td>...</td>\n",
              "      <td>...</td>\n",
              "    </tr>\n",
              "    <tr>\n",
              "      <th>10285556</th>\n",
              "      <td>199999</td>\n",
              "      <td>928064</td>\n",
              "      <td>2022-08-01 06:46:48.967</td>\n",
              "      <td>clicks</td>\n",
              "    </tr>\n",
              "    <tr>\n",
              "      <th>10285557</th>\n",
              "      <td>199999</td>\n",
              "      <td>849970</td>\n",
              "      <td>2022-08-01 06:47:29.078</td>\n",
              "      <td>clicks</td>\n",
              "    </tr>\n",
              "    <tr>\n",
              "      <th>10285558</th>\n",
              "      <td>199999</td>\n",
              "      <td>1052480</td>\n",
              "      <td>2022-08-01 06:49:07.035</td>\n",
              "      <td>clicks</td>\n",
              "    </tr>\n",
              "    <tr>\n",
              "      <th>10285559</th>\n",
              "      <td>199999</td>\n",
              "      <td>487255</td>\n",
              "      <td>2022-08-01 06:49:21.116</td>\n",
              "      <td>clicks</td>\n",
              "    </tr>\n",
              "    <tr>\n",
              "      <th>10285560</th>\n",
              "      <td>199999</td>\n",
              "      <td>1138833</td>\n",
              "      <td>2022-08-01 06:49:35.075</td>\n",
              "      <td>clicks</td>\n",
              "    </tr>\n",
              "  </tbody>\n",
              "</table>\n",
              "<p>10285561 rows × 4 columns</p>\n",
              "</div>\n",
              "      <button class=\"colab-df-convert\" onclick=\"convertToInteractive('df-c9dc83e7-b2ce-4ed7-b5c1-cf5dd40286b1')\"\n",
              "              title=\"Convert this dataframe to an interactive table.\"\n",
              "              style=\"display:none;\">\n",
              "        \n",
              "  <svg xmlns=\"http://www.w3.org/2000/svg\" height=\"24px\"viewBox=\"0 0 24 24\"\n",
              "       width=\"24px\">\n",
              "    <path d=\"M0 0h24v24H0V0z\" fill=\"none\"/>\n",
              "    <path d=\"M18.56 5.44l.94 2.06.94-2.06 2.06-.94-2.06-.94-.94-2.06-.94 2.06-2.06.94zm-11 1L8.5 8.5l.94-2.06 2.06-.94-2.06-.94L8.5 2.5l-.94 2.06-2.06.94zm10 10l.94 2.06.94-2.06 2.06-.94-2.06-.94-.94-2.06-.94 2.06-2.06.94z\"/><path d=\"M17.41 7.96l-1.37-1.37c-.4-.4-.92-.59-1.43-.59-.52 0-1.04.2-1.43.59L10.3 9.45l-7.72 7.72c-.78.78-.78 2.05 0 2.83L4 21.41c.39.39.9.59 1.41.59.51 0 1.02-.2 1.41-.59l7.78-7.78 2.81-2.81c.8-.78.8-2.07 0-2.86zM5.41 20L4 18.59l7.72-7.72 1.47 1.35L5.41 20z\"/>\n",
              "  </svg>\n",
              "      </button>\n",
              "      \n",
              "  <style>\n",
              "    .colab-df-container {\n",
              "      display:flex;\n",
              "      flex-wrap:wrap;\n",
              "      gap: 12px;\n",
              "    }\n",
              "\n",
              "    .colab-df-convert {\n",
              "      background-color: #E8F0FE;\n",
              "      border: none;\n",
              "      border-radius: 50%;\n",
              "      cursor: pointer;\n",
              "      display: none;\n",
              "      fill: #1967D2;\n",
              "      height: 32px;\n",
              "      padding: 0 0 0 0;\n",
              "      width: 32px;\n",
              "    }\n",
              "\n",
              "    .colab-df-convert:hover {\n",
              "      background-color: #E2EBFA;\n",
              "      box-shadow: 0px 1px 2px rgba(60, 64, 67, 0.3), 0px 1px 3px 1px rgba(60, 64, 67, 0.15);\n",
              "      fill: #174EA6;\n",
              "    }\n",
              "\n",
              "    [theme=dark] .colab-df-convert {\n",
              "      background-color: #3B4455;\n",
              "      fill: #D2E3FC;\n",
              "    }\n",
              "\n",
              "    [theme=dark] .colab-df-convert:hover {\n",
              "      background-color: #434B5C;\n",
              "      box-shadow: 0px 1px 3px 1px rgba(0, 0, 0, 0.15);\n",
              "      filter: drop-shadow(0px 1px 2px rgba(0, 0, 0, 0.3));\n",
              "      fill: #FFFFFF;\n",
              "    }\n",
              "  </style>\n",
              "\n",
              "      <script>\n",
              "        const buttonEl =\n",
              "          document.querySelector('#df-c9dc83e7-b2ce-4ed7-b5c1-cf5dd40286b1 button.colab-df-convert');\n",
              "        buttonEl.style.display =\n",
              "          google.colab.kernel.accessAllowed ? 'block' : 'none';\n",
              "\n",
              "        async function convertToInteractive(key) {\n",
              "          const element = document.querySelector('#df-c9dc83e7-b2ce-4ed7-b5c1-cf5dd40286b1');\n",
              "          const dataTable =\n",
              "            await google.colab.kernel.invokeFunction('convertToInteractive',\n",
              "                                                     [key], {});\n",
              "          if (!dataTable) return;\n",
              "\n",
              "          const docLinkHtml = 'Like what you see? Visit the ' +\n",
              "            '<a target=\"_blank\" href=https://colab.research.google.com/notebooks/data_table.ipynb>data table notebook</a>'\n",
              "            + ' to learn more about interactive tables.';\n",
              "          element.innerHTML = '';\n",
              "          dataTable['output_type'] = 'display_data';\n",
              "          await google.colab.output.renderOutput(dataTable, element);\n",
              "          const docLink = document.createElement('div');\n",
              "          docLink.innerHTML = docLinkHtml;\n",
              "          element.appendChild(docLink);\n",
              "        }\n",
              "      </script>\n",
              "    </div>\n",
              "  </div>\n",
              "  "
            ]
          },
          "metadata": {}
        }
      ]
    },
    {
      "cell_type": "code",
      "source": [
        "#원핫인코더 객체 생성\n",
        "ohe = OneHotEncoder(handle_unknown=\"ignore\")"
      ],
      "metadata": {
        "id": "qnHKrc3-1q6p"
      },
      "execution_count": 5,
      "outputs": []
    },
    {
      "cell_type": "code",
      "source": [
        "#customers = session0~session8 을 이어붙인 dataframe\n",
        "n_customers = 8\n",
        "customers=train[train.customer_id<=n_customers]\n",
        "customers"
      ],
      "metadata": {
        "colab": {
          "base_uri": "https://localhost:8080/",
          "height": 423
        },
        "id": "fJGd9m6w0Nl4",
        "outputId": "8c93e512-60d9-4c2f-8b8f-98d9156063e7"
      },
      "execution_count": 6,
      "outputs": [
        {
          "output_type": "execute_result",
          "data": {
            "text/plain": [
              "     customer_id  product_code               time_stamp event_type\n",
              "0              0       1517085  2022-07-31 22:00:00.025     clicks\n",
              "1              0       1563459  2022-07-31 22:01:44.511     clicks\n",
              "2              0       1309446  2022-08-01 15:23:59.426     clicks\n",
              "3              0         16246  2022-08-01 15:28:39.997     clicks\n",
              "4              0       1781822  2022-08-01 15:31:11.344     clicks\n",
              "..           ...           ...                      ...        ...\n",
              "827            7       1064510  2022-08-15 04:41:58.319     clicks\n",
              "828            8       1814223  2022-07-31 22:00:00.136     clicks\n",
              "829            8        324620  2022-07-31 22:00:15.389     clicks\n",
              "830            8       1320098  2022-07-31 22:00:27.550     clicks\n",
              "831            8        324620  2022-07-31 22:00:39.975     clicks\n",
              "\n",
              "[832 rows x 4 columns]"
            ],
            "text/html": [
              "\n",
              "  <div id=\"df-fa372027-106b-40f4-bb75-1f2e58c18124\">\n",
              "    <div class=\"colab-df-container\">\n",
              "      <div>\n",
              "<style scoped>\n",
              "    .dataframe tbody tr th:only-of-type {\n",
              "        vertical-align: middle;\n",
              "    }\n",
              "\n",
              "    .dataframe tbody tr th {\n",
              "        vertical-align: top;\n",
              "    }\n",
              "\n",
              "    .dataframe thead th {\n",
              "        text-align: right;\n",
              "    }\n",
              "</style>\n",
              "<table border=\"1\" class=\"dataframe\">\n",
              "  <thead>\n",
              "    <tr style=\"text-align: right;\">\n",
              "      <th></th>\n",
              "      <th>customer_id</th>\n",
              "      <th>product_code</th>\n",
              "      <th>time_stamp</th>\n",
              "      <th>event_type</th>\n",
              "    </tr>\n",
              "  </thead>\n",
              "  <tbody>\n",
              "    <tr>\n",
              "      <th>0</th>\n",
              "      <td>0</td>\n",
              "      <td>1517085</td>\n",
              "      <td>2022-07-31 22:00:00.025</td>\n",
              "      <td>clicks</td>\n",
              "    </tr>\n",
              "    <tr>\n",
              "      <th>1</th>\n",
              "      <td>0</td>\n",
              "      <td>1563459</td>\n",
              "      <td>2022-07-31 22:01:44.511</td>\n",
              "      <td>clicks</td>\n",
              "    </tr>\n",
              "    <tr>\n",
              "      <th>2</th>\n",
              "      <td>0</td>\n",
              "      <td>1309446</td>\n",
              "      <td>2022-08-01 15:23:59.426</td>\n",
              "      <td>clicks</td>\n",
              "    </tr>\n",
              "    <tr>\n",
              "      <th>3</th>\n",
              "      <td>0</td>\n",
              "      <td>16246</td>\n",
              "      <td>2022-08-01 15:28:39.997</td>\n",
              "      <td>clicks</td>\n",
              "    </tr>\n",
              "    <tr>\n",
              "      <th>4</th>\n",
              "      <td>0</td>\n",
              "      <td>1781822</td>\n",
              "      <td>2022-08-01 15:31:11.344</td>\n",
              "      <td>clicks</td>\n",
              "    </tr>\n",
              "    <tr>\n",
              "      <th>...</th>\n",
              "      <td>...</td>\n",
              "      <td>...</td>\n",
              "      <td>...</td>\n",
              "      <td>...</td>\n",
              "    </tr>\n",
              "    <tr>\n",
              "      <th>827</th>\n",
              "      <td>7</td>\n",
              "      <td>1064510</td>\n",
              "      <td>2022-08-15 04:41:58.319</td>\n",
              "      <td>clicks</td>\n",
              "    </tr>\n",
              "    <tr>\n",
              "      <th>828</th>\n",
              "      <td>8</td>\n",
              "      <td>1814223</td>\n",
              "      <td>2022-07-31 22:00:00.136</td>\n",
              "      <td>clicks</td>\n",
              "    </tr>\n",
              "    <tr>\n",
              "      <th>829</th>\n",
              "      <td>8</td>\n",
              "      <td>324620</td>\n",
              "      <td>2022-07-31 22:00:15.389</td>\n",
              "      <td>clicks</td>\n",
              "    </tr>\n",
              "    <tr>\n",
              "      <th>830</th>\n",
              "      <td>8</td>\n",
              "      <td>1320098</td>\n",
              "      <td>2022-07-31 22:00:27.550</td>\n",
              "      <td>clicks</td>\n",
              "    </tr>\n",
              "    <tr>\n",
              "      <th>831</th>\n",
              "      <td>8</td>\n",
              "      <td>324620</td>\n",
              "      <td>2022-07-31 22:00:39.975</td>\n",
              "      <td>clicks</td>\n",
              "    </tr>\n",
              "  </tbody>\n",
              "</table>\n",
              "<p>832 rows × 4 columns</p>\n",
              "</div>\n",
              "      <button class=\"colab-df-convert\" onclick=\"convertToInteractive('df-fa372027-106b-40f4-bb75-1f2e58c18124')\"\n",
              "              title=\"Convert this dataframe to an interactive table.\"\n",
              "              style=\"display:none;\">\n",
              "        \n",
              "  <svg xmlns=\"http://www.w3.org/2000/svg\" height=\"24px\"viewBox=\"0 0 24 24\"\n",
              "       width=\"24px\">\n",
              "    <path d=\"M0 0h24v24H0V0z\" fill=\"none\"/>\n",
              "    <path d=\"M18.56 5.44l.94 2.06.94-2.06 2.06-.94-2.06-.94-.94-2.06-.94 2.06-2.06.94zm-11 1L8.5 8.5l.94-2.06 2.06-.94-2.06-.94L8.5 2.5l-.94 2.06-2.06.94zm10 10l.94 2.06.94-2.06 2.06-.94-2.06-.94-.94-2.06-.94 2.06-2.06.94z\"/><path d=\"M17.41 7.96l-1.37-1.37c-.4-.4-.92-.59-1.43-.59-.52 0-1.04.2-1.43.59L10.3 9.45l-7.72 7.72c-.78.78-.78 2.05 0 2.83L4 21.41c.39.39.9.59 1.41.59.51 0 1.02-.2 1.41-.59l7.78-7.78 2.81-2.81c.8-.78.8-2.07 0-2.86zM5.41 20L4 18.59l7.72-7.72 1.47 1.35L5.41 20z\"/>\n",
              "  </svg>\n",
              "      </button>\n",
              "      \n",
              "  <style>\n",
              "    .colab-df-container {\n",
              "      display:flex;\n",
              "      flex-wrap:wrap;\n",
              "      gap: 12px;\n",
              "    }\n",
              "\n",
              "    .colab-df-convert {\n",
              "      background-color: #E8F0FE;\n",
              "      border: none;\n",
              "      border-radius: 50%;\n",
              "      cursor: pointer;\n",
              "      display: none;\n",
              "      fill: #1967D2;\n",
              "      height: 32px;\n",
              "      padding: 0 0 0 0;\n",
              "      width: 32px;\n",
              "    }\n",
              "\n",
              "    .colab-df-convert:hover {\n",
              "      background-color: #E2EBFA;\n",
              "      box-shadow: 0px 1px 2px rgba(60, 64, 67, 0.3), 0px 1px 3px 1px rgba(60, 64, 67, 0.15);\n",
              "      fill: #174EA6;\n",
              "    }\n",
              "\n",
              "    [theme=dark] .colab-df-convert {\n",
              "      background-color: #3B4455;\n",
              "      fill: #D2E3FC;\n",
              "    }\n",
              "\n",
              "    [theme=dark] .colab-df-convert:hover {\n",
              "      background-color: #434B5C;\n",
              "      box-shadow: 0px 1px 3px 1px rgba(0, 0, 0, 0.15);\n",
              "      filter: drop-shadow(0px 1px 2px rgba(0, 0, 0, 0.3));\n",
              "      fill: #FFFFFF;\n",
              "    }\n",
              "  </style>\n",
              "\n",
              "      <script>\n",
              "        const buttonEl =\n",
              "          document.querySelector('#df-fa372027-106b-40f4-bb75-1f2e58c18124 button.colab-df-convert');\n",
              "        buttonEl.style.display =\n",
              "          google.colab.kernel.accessAllowed ? 'block' : 'none';\n",
              "\n",
              "        async function convertToInteractive(key) {\n",
              "          const element = document.querySelector('#df-fa372027-106b-40f4-bb75-1f2e58c18124');\n",
              "          const dataTable =\n",
              "            await google.colab.kernel.invokeFunction('convertToInteractive',\n",
              "                                                     [key], {});\n",
              "          if (!dataTable) return;\n",
              "\n",
              "          const docLinkHtml = 'Like what you see? Visit the ' +\n",
              "            '<a target=\"_blank\" href=https://colab.research.google.com/notebooks/data_table.ipynb>data table notebook</a>'\n",
              "            + ' to learn more about interactive tables.';\n",
              "          element.innerHTML = '';\n",
              "          dataTable['output_type'] = 'display_data';\n",
              "          await google.colab.output.renderOutput(dataTable, element);\n",
              "          const docLink = document.createElement('div');\n",
              "          docLink.innerHTML = docLinkHtml;\n",
              "          element.appendChild(docLink);\n",
              "        }\n",
              "      </script>\n",
              "    </div>\n",
              "  </div>\n",
              "  "
            ]
          },
          "metadata": {},
          "execution_count": 6
        }
      ]
    },
    {
      "cell_type": "code",
      "source": [
        "#pid_etype = session8 까지의 pid와 etype\n",
        "pid_etype = pd.DataFrame(data={\"product_code\":customers.product_code, \"event_type\":customers.event_type})\n",
        "#session8 까지의 데이터로 원핫인코딩 dictionary 생성\n",
        "ohe.fit(pid_etype)"
      ],
      "metadata": {
        "colab": {
          "base_uri": "https://localhost:8080/"
        },
        "id": "F6tm85bM0Nok",
        "outputId": "b59b53a5-a39f-45e2-ce32-5afc407ea1f0"
      },
      "execution_count": 7,
      "outputs": [
        {
          "output_type": "execute_result",
          "data": {
            "text/plain": [
              "OneHotEncoder(handle_unknown='ignore')"
            ]
          },
          "metadata": {},
          "execution_count": 7
        }
      ]
    },
    {
      "cell_type": "code",
      "source": [
        "#sessions = session8까지, [각 session의 pid와 etype]. \n",
        "#그러니까 sessions 라는 리스트 안에, session 이라는 리스트가 9개\n",
        "sessions =[]\n",
        "for i in range (n_customers):\n",
        "    customer = customers[customers.customer_id==i]\n",
        "    pid_etype = pd.DataFrame(data={\"product_code\":customer.product_code, \"event_type\":customer.event_type})\n",
        "    sessions.append(pid_etype)"
      ],
      "metadata": {
        "id": "KAO9OChc0Nq8"
      },
      "execution_count": 8,
      "outputs": []
    },
    {
      "cell_type": "code",
      "source": [
        "#5개씩 자르는 batchmaker\n",
        "#각 session 별로 5줄을 한 input batch(덩어리)로 묶어 input_batch 에\n",
        "#그 다음 줄은 target에 넣고 ohe 해서 target_batch 에\n",
        "#input_batch, target_batch 는 ohe 한걸 가지고 있음\n",
        "\n",
        "sequence_length=5     #5줄씩\n",
        "\n",
        "def batchmaker(sessions):\n",
        "    input_batch = []\n",
        "    target_batch = []\n",
        "    target = pd.DataFrame(data={\"product_code\":[], \"event_type\":[]})\n",
        "    for session in sessions:\n",
        "        for i in range(len(session)-sequence_length):\n",
        "            input_batch.append(ohe.transform(session[i:i+5]).toarray())\n",
        "            target = target.append(session[i+5:i+6])\n",
        "            target_batch.append(ohe.transform(session[i+5:i+6]).toarray())\n",
        "    return input_batch, target_batch, target"
      ],
      "metadata": {
        "id": "31zfnwe20Nue"
      },
      "execution_count": 9,
      "outputs": []
    },
    {
      "cell_type": "code",
      "source": [
        "input_batch, target_batch, target = batchmaker(sessions)"
      ],
      "metadata": {
        "id": "vxPOJhK20d-C"
      },
      "execution_count": 10,
      "outputs": []
    },
    {
      "cell_type": "code",
      "source": [
        "input_batch = torch.tensor(input_batch, dtype=torch.float32, requires_grad = True)\n",
        "target_batch = torch.tensor(target_batch, dtype=torch.float32).squeeze()\n",
        "target.product_code = target.product_code.astype(int)"
      ],
      "metadata": {
        "colab": {
          "base_uri": "https://localhost:8080/"
        },
        "id": "qE6Zp8TR0eAg",
        "outputId": "237d0275-e057-4849-97f7-5c2750cd2fa6"
      },
      "execution_count": 11,
      "outputs": [
        {
          "output_type": "stream",
          "name": "stderr",
          "text": [
            "<ipython-input-11-a60194afe4bf>:1: UserWarning: Creating a tensor from a list of numpy.ndarrays is extremely slow. Please consider converting the list to a single numpy.ndarray with numpy.array() before converting to a tensor. (Triggered internally at ../torch/csrc/utils/tensor_new.cpp:230.)\n",
            "  input_batch = torch.tensor(input_batch, dtype=torch.float32, requires_grad = True)\n"
          ]
        }
      ]
    },
    {
      "cell_type": "code",
      "source": [
        "##hyper parameters\n",
        "\n",
        "hidden_size = 2    #(pid,etype)\n",
        "#batch_size = len(input_batch)\n",
        "learning_rate = 0.01\n",
        "input_size=len(ohe.categories_[0]) + len(ohe.categories_[1])\n",
        "#sequence_length = 5 (위에서 정의했음)\n",
        "num_layers = 1"
      ],
      "metadata": {
        "id": "-YLcSnpZ0eDT"
      },
      "execution_count": 12,
      "outputs": []
    },
    {
      "cell_type": "code",
      "source": [
        "class RNN(nn.Module):\n",
        "    def __init__(self, input_size, hidden_size, num_layers):\n",
        "        super(RNN, self).__init__()\n",
        "        self.num_layers = num_layers\n",
        "        self.hidden_size = hidden_size\n",
        "        self.rnn = nn.RNN(input_size, hidden_size, num_layers, batch_first=True)   #input(batch_size, seq_len, input_size)\n",
        "        self.weights = nn.Linear(hidden_size, input_size, bias=False)\n",
        "        self.bias = nn.Parameter(torch.zeros(input_size))\n",
        "        self.Softmax = nn.Softmax(dim=1)\n",
        "        \n",
        "        \n",
        "    def forward(self, hidden, X):           \n",
        "        X = X.transpose(0, 1)              #X: [n_step, batch_size, n_feature]\n",
        "        outputs, hidden = self.rnn(X, hidden)\n",
        "        outputs = outputs[-1]                 # 최종 예측 Hidden Layer [batch_size, num_directions*hidden_size]\n",
        "        model = self.weights(outputs) + self.bias  # 최종 예측 최종 출력 층\n",
        "        return model\n",
        "    \n",
        "model = RNN(input_size, hidden_size, num_layers)\n",
        "\n",
        "#Loss and optimizer\n",
        "criterion = nn.CrossEntropyLoss()\n",
        "optimizer = torch.optim.Adam(model.parameters(), lr=learning_rate)"
      ],
      "metadata": {
        "id": "pB2Ipr9O0eG5"
      },
      "execution_count": 13,
      "outputs": []
    },
    {
      "cell_type": "code",
      "source": [
        "#feature 500개일때 5000epoch: 9초(3.14>2.6>1.6>1.43>1.41)\n",
        "for epoch in range(5000):\n",
        "    #print('epoch: ', epoch+1)\n",
        "    #hidden 을 0으로 초기화. 학습으로 변경가능\n",
        "    hidden = torch.zeros(1, sequence_length, hidden_size, requires_grad=True)   \n",
        "    #input_batch 에 가중치 hidden을 써서 나온 output\n",
        "    output = model(hidden, input_batch)    \n",
        "    #criterion \n",
        "    #print(output.shape, target_batch.shape)\n",
        "    loss = criterion(output, target_batch)    #criterion(예측치, 답), loss 를 계산. \n",
        "    if (epoch + 1) % 1000 == 0:      #99, 199, 299, 399, 499 번째 학습이면 loss 를 출력하도록\n",
        "        print('Epoch:', '%04d' % (epoch + 1), 'cost =', '{:.6f}'.format(loss)) \n",
        "    #backward and optimize\n",
        "    optimizer.zero_grad()   #gradient(미분값)가 누적되지 않도록 0으로 초기화\n",
        "    loss.backward()         #cost function 미분해서 gradient(현지점 기울기) 계산\n",
        "    optimizer.step()        #weight, bias 업데이트"
      ],
      "metadata": {
        "id": "HDOQH3Ht06wN"
      },
      "execution_count": null,
      "outputs": []
    },
    {
      "cell_type": "code",
      "source": [
        "hidden = torch.zeros(1, sequence_length, hidden_size, requires_grad=True)   "
      ],
      "metadata": {
        "id": "DFpq5XxM06yt"
      },
      "execution_count": null,
      "outputs": []
    },
    {
      "cell_type": "code",
      "source": [
        "predict =  model(hidden, input_batch).data.topk(k=2)[1]\n",
        "print('predict', predict)"
      ],
      "metadata": {
        "id": "_l9bLXF9062K"
      },
      "execution_count": null,
      "outputs": []
    },
    {
      "cell_type": "code",
      "source": [
        "target_transform = ohe.transform(target)"
      ],
      "metadata": {
        "id": "27lOuu6OJwZL"
      },
      "execution_count": null,
      "outputs": []
    },
    {
      "cell_type": "code",
      "source": [
        "#target_list : 정답\n",
        "import numpy\n",
        "target_list = []\n",
        "for i in range(target_transform.shape[0]):\n",
        "    target_list.append(list(numpy.where(target_transform.toarray()[i]==1))[0].tolist())\n",
        "target_list"
      ],
      "metadata": {
        "id": "9_d7cPJaWI9p"
      },
      "execution_count": null,
      "outputs": []
    },
    {
      "cell_type": "code",
      "source": [
        "#predict_list : 예측\n",
        "predict_list = []\n",
        "for i in range(len(predict)):\n",
        "    predict_list.append(predict[i].sort().values.tolist())\n",
        "predict_list"
      ],
      "metadata": {
        "id": "o7B-UjexWJAF"
      },
      "execution_count": null,
      "outputs": []
    },
    {
      "cell_type": "code",
      "source": [
        "##정답이랑 예측 비교해서 채점하는 recall 함수 만들어야\n",
        "target_list[0]"
      ],
      "metadata": {
        "id": "YlA9GPykWJDn"
      },
      "execution_count": null,
      "outputs": []
    },
    {
      "cell_type": "code",
      "source": [],
      "metadata": {
        "id": "Zcn7Oda8WJL9"
      },
      "execution_count": null,
      "outputs": []
    },
    {
      "cell_type": "code",
      "source": [],
      "metadata": {
        "id": "IdNYGtFRWJN2"
      },
      "execution_count": null,
      "outputs": []
    },
    {
      "cell_type": "code",
      "source": [],
      "metadata": {
        "id": "NDGFzLJ_WJRe"
      },
      "execution_count": null,
      "outputs": []
    }
  ]
}